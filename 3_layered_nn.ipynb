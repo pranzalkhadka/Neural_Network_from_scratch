{
 "cells": [
  {
   "cell_type": "code",
   "execution_count": 1,
   "metadata": {},
   "outputs": [],
   "source": [
    "import pandas as pd"
   ]
  },
  {
   "cell_type": "code",
   "execution_count": 2,
   "metadata": {},
   "outputs": [],
   "source": [
    "df = pd.read_csv(\"train.csv\")"
   ]
  },
  {
   "cell_type": "code",
   "execution_count": 3,
   "metadata": {},
   "outputs": [
    {
     "data": {
      "text/html": [
       "<div>\n",
       "<style scoped>\n",
       "    .dataframe tbody tr th:only-of-type {\n",
       "        vertical-align: middle;\n",
       "    }\n",
       "\n",
       "    .dataframe tbody tr th {\n",
       "        vertical-align: top;\n",
       "    }\n",
       "\n",
       "    .dataframe thead th {\n",
       "        text-align: right;\n",
       "    }\n",
       "</style>\n",
       "<table border=\"1\" class=\"dataframe\">\n",
       "  <thead>\n",
       "    <tr style=\"text-align: right;\">\n",
       "      <th></th>\n",
       "      <th>label</th>\n",
       "      <th>pixel0</th>\n",
       "      <th>pixel1</th>\n",
       "      <th>pixel2</th>\n",
       "      <th>pixel3</th>\n",
       "      <th>pixel4</th>\n",
       "      <th>pixel5</th>\n",
       "      <th>pixel6</th>\n",
       "      <th>pixel7</th>\n",
       "      <th>pixel8</th>\n",
       "      <th>...</th>\n",
       "      <th>pixel774</th>\n",
       "      <th>pixel775</th>\n",
       "      <th>pixel776</th>\n",
       "      <th>pixel777</th>\n",
       "      <th>pixel778</th>\n",
       "      <th>pixel779</th>\n",
       "      <th>pixel780</th>\n",
       "      <th>pixel781</th>\n",
       "      <th>pixel782</th>\n",
       "      <th>pixel783</th>\n",
       "    </tr>\n",
       "  </thead>\n",
       "  <tbody>\n",
       "    <tr>\n",
       "      <th>0</th>\n",
       "      <td>1</td>\n",
       "      <td>0</td>\n",
       "      <td>0</td>\n",
       "      <td>0</td>\n",
       "      <td>0</td>\n",
       "      <td>0</td>\n",
       "      <td>0</td>\n",
       "      <td>0</td>\n",
       "      <td>0</td>\n",
       "      <td>0</td>\n",
       "      <td>...</td>\n",
       "      <td>0</td>\n",
       "      <td>0</td>\n",
       "      <td>0</td>\n",
       "      <td>0</td>\n",
       "      <td>0</td>\n",
       "      <td>0</td>\n",
       "      <td>0</td>\n",
       "      <td>0</td>\n",
       "      <td>0</td>\n",
       "      <td>0</td>\n",
       "    </tr>\n",
       "    <tr>\n",
       "      <th>1</th>\n",
       "      <td>0</td>\n",
       "      <td>0</td>\n",
       "      <td>0</td>\n",
       "      <td>0</td>\n",
       "      <td>0</td>\n",
       "      <td>0</td>\n",
       "      <td>0</td>\n",
       "      <td>0</td>\n",
       "      <td>0</td>\n",
       "      <td>0</td>\n",
       "      <td>...</td>\n",
       "      <td>0</td>\n",
       "      <td>0</td>\n",
       "      <td>0</td>\n",
       "      <td>0</td>\n",
       "      <td>0</td>\n",
       "      <td>0</td>\n",
       "      <td>0</td>\n",
       "      <td>0</td>\n",
       "      <td>0</td>\n",
       "      <td>0</td>\n",
       "    </tr>\n",
       "    <tr>\n",
       "      <th>2</th>\n",
       "      <td>1</td>\n",
       "      <td>0</td>\n",
       "      <td>0</td>\n",
       "      <td>0</td>\n",
       "      <td>0</td>\n",
       "      <td>0</td>\n",
       "      <td>0</td>\n",
       "      <td>0</td>\n",
       "      <td>0</td>\n",
       "      <td>0</td>\n",
       "      <td>...</td>\n",
       "      <td>0</td>\n",
       "      <td>0</td>\n",
       "      <td>0</td>\n",
       "      <td>0</td>\n",
       "      <td>0</td>\n",
       "      <td>0</td>\n",
       "      <td>0</td>\n",
       "      <td>0</td>\n",
       "      <td>0</td>\n",
       "      <td>0</td>\n",
       "    </tr>\n",
       "    <tr>\n",
       "      <th>3</th>\n",
       "      <td>4</td>\n",
       "      <td>0</td>\n",
       "      <td>0</td>\n",
       "      <td>0</td>\n",
       "      <td>0</td>\n",
       "      <td>0</td>\n",
       "      <td>0</td>\n",
       "      <td>0</td>\n",
       "      <td>0</td>\n",
       "      <td>0</td>\n",
       "      <td>...</td>\n",
       "      <td>0</td>\n",
       "      <td>0</td>\n",
       "      <td>0</td>\n",
       "      <td>0</td>\n",
       "      <td>0</td>\n",
       "      <td>0</td>\n",
       "      <td>0</td>\n",
       "      <td>0</td>\n",
       "      <td>0</td>\n",
       "      <td>0</td>\n",
       "    </tr>\n",
       "    <tr>\n",
       "      <th>4</th>\n",
       "      <td>0</td>\n",
       "      <td>0</td>\n",
       "      <td>0</td>\n",
       "      <td>0</td>\n",
       "      <td>0</td>\n",
       "      <td>0</td>\n",
       "      <td>0</td>\n",
       "      <td>0</td>\n",
       "      <td>0</td>\n",
       "      <td>0</td>\n",
       "      <td>...</td>\n",
       "      <td>0</td>\n",
       "      <td>0</td>\n",
       "      <td>0</td>\n",
       "      <td>0</td>\n",
       "      <td>0</td>\n",
       "      <td>0</td>\n",
       "      <td>0</td>\n",
       "      <td>0</td>\n",
       "      <td>0</td>\n",
       "      <td>0</td>\n",
       "    </tr>\n",
       "  </tbody>\n",
       "</table>\n",
       "<p>5 rows × 785 columns</p>\n",
       "</div>"
      ],
      "text/plain": [
       "   label  pixel0  pixel1  pixel2  pixel3  pixel4  pixel5  pixel6  pixel7  \\\n",
       "0      1       0       0       0       0       0       0       0       0   \n",
       "1      0       0       0       0       0       0       0       0       0   \n",
       "2      1       0       0       0       0       0       0       0       0   \n",
       "3      4       0       0       0       0       0       0       0       0   \n",
       "4      0       0       0       0       0       0       0       0       0   \n",
       "\n",
       "   pixel8  ...  pixel774  pixel775  pixel776  pixel777  pixel778  pixel779  \\\n",
       "0       0  ...         0         0         0         0         0         0   \n",
       "1       0  ...         0         0         0         0         0         0   \n",
       "2       0  ...         0         0         0         0         0         0   \n",
       "3       0  ...         0         0         0         0         0         0   \n",
       "4       0  ...         0         0         0         0         0         0   \n",
       "\n",
       "   pixel780  pixel781  pixel782  pixel783  \n",
       "0         0         0         0         0  \n",
       "1         0         0         0         0  \n",
       "2         0         0         0         0  \n",
       "3         0         0         0         0  \n",
       "4         0         0         0         0  \n",
       "\n",
       "[5 rows x 785 columns]"
      ]
     },
     "execution_count": 3,
     "metadata": {},
     "output_type": "execute_result"
    }
   ],
   "source": [
    "df.head(5)"
   ]
  },
  {
   "cell_type": "markdown",
   "metadata": {},
   "source": [
    "Since we are going to perform mathematical operations, we need to convert the pandas dataframe to a numpy array"
   ]
  },
  {
   "cell_type": "code",
   "execution_count": 4,
   "metadata": {},
   "outputs": [
    {
     "name": "stdout",
     "output_type": "stream",
     "text": [
      "m: 42000\n",
      "n: 785\n"
     ]
    }
   ],
   "source": [
    "import numpy as np\n",
    "data = np.array(df)\n",
    "m,n = data.shape\n",
    "print(f\"m: {m}\")\n",
    "print(f\"n: {n}\")"
   ]
  },
  {
   "cell_type": "markdown",
   "metadata": {},
   "source": [
    "So we have 42000 training examples and 784 features each excluding the label column"
   ]
  },
  {
   "cell_type": "code",
   "execution_count": 5,
   "metadata": {},
   "outputs": [
    {
     "data": {
      "text/plain": [
       "array([[1, 0, 0, ..., 0, 0, 0],\n",
       "       [0, 0, 0, ..., 0, 0, 0],\n",
       "       [1, 0, 0, ..., 0, 0, 0],\n",
       "       [4, 0, 0, ..., 0, 0, 0],\n",
       "       [0, 0, 0, ..., 0, 0, 0]])"
      ]
     },
     "execution_count": 5,
     "metadata": {},
     "output_type": "execute_result"
    }
   ],
   "source": [
    "data[:5]"
   ]
  },
  {
   "cell_type": "markdown",
   "metadata": {},
   "source": [
    "First columns is the label and rest are pixel values or the features"
   ]
  },
  {
   "cell_type": "code",
   "execution_count": 6,
   "metadata": {},
   "outputs": [
    {
     "data": {
      "text/plain": [
       "array([[1, 0, 1, 4, 0],\n",
       "       [0, 0, 0, 0, 0],\n",
       "       [0, 0, 0, 0, 0],\n",
       "       ...,\n",
       "       [0, 0, 0, 0, 0],\n",
       "       [0, 0, 0, 0, 0],\n",
       "       [0, 0, 0, 0, 0]])"
      ]
     },
     "execution_count": 6,
     "metadata": {},
     "output_type": "execute_result"
    }
   ],
   "source": [
    "data[:5].T"
   ]
  },
  {
   "cell_type": "markdown",
   "metadata": {},
   "source": [
    "As we can see after transpose, we get the first row as the label. This makes easy in retrieving the target variable for splitting."
   ]
  },
  {
   "cell_type": "code",
   "execution_count": 7,
   "metadata": {},
   "outputs": [],
   "source": [
    "np.random.shuffle(data)\n",
    "val_data = data[0 : 2000].T\n",
    "Y_val = val_data[0]\n",
    "X_val = val_data[1 : n]\n",
    "X_val = X_val / 255."
   ]
  },
  {
   "cell_type": "code",
   "execution_count": 8,
   "metadata": {},
   "outputs": [],
   "source": [
    "train_data = data[2000 : m].T\n",
    "Y_train = train_data[0]\n",
    "X_train = train_data[1 : n]\n",
    "X_train = X_train / 255."
   ]
  },
  {
   "cell_type": "code",
   "execution_count": 27,
   "metadata": {},
   "outputs": [],
   "source": [
    "def initialize_parameters():\n",
    "    \"\"\"\n",
    "    This function initializes random values for initial weights and biases of our neural network\n",
    "    There will be a input layer, two hidden layer with 300 and 100 neurons and output layer with 10 neurons representing mnist digits\n",
    "    \"\"\"\n",
    "\n",
    "    W1 = np.random.rand(300, 784) - 0.5\n",
    "    #returns an array of random values between (0, 1) with the shape (300, 784)\n",
    "    b1 = np.random.rand(300, 1) - 0.5\n",
    "    #returns an array of random values between (0, 1) with the shape (300, 1)\n",
    "    W2 = np.random.rand(100, 300) - 0.5\n",
    "    #returns an array of random values between (0, 1) with the shape (100, 300)\n",
    "    b2 = np.random.rand(100, 1) - 0.5\n",
    "    #returns an array of random values between (0, 1) with the shape (100, 1)\n",
    "    W3 = np.random.rand(10, 100) - 0.5\n",
    "    #returns an array of random values between (0, 1) with the shape (10, 100)\n",
    "    b3 = np.random.rand(10, 1) - 0.5\n",
    "    #returns an array of random values between (0, 1) with the shape (10, 1)\n",
    "\n",
    "    return W1, b1, W2, b2, W3, b3"
   ]
  },
  {
   "cell_type": "code",
   "execution_count": 11,
   "metadata": {},
   "outputs": [],
   "source": [
    "def ReLU(Z):\n",
    "    \"\"\"\n",
    "    For each element in Z, the ReLU function returns Z if Z is positive and return 0 if Z is negative\n",
    "    \"\"\"\n",
    "    return np.maximum(Z ,0)"
   ]
  },
  {
   "cell_type": "code",
   "execution_count": 12,
   "metadata": {},
   "outputs": [],
   "source": [
    "def Softmax(Z):\n",
    "    \"\"\"\n",
    "    The Softmax function converts the final score into probability distribution over different classes\n",
    "    np.exp(Z) calculates the element-wise exponential of input Z\n",
    "    np.sum(np.exp(Z)) calculates the sum of the exponentiated values of ell elements of Z\n",
    "    \"\"\"\n",
    "    A = np.exp(Z) / sum(np.exp(Z))\n",
    "    return A"
   ]
  },
  {
   "cell_type": "code",
   "execution_count": 13,
   "metadata": {},
   "outputs": [],
   "source": [
    "def one_hot_encoding(Y):\n",
    "    \"\"\"\n",
    "    We have our final output as probability distribution over 10 classes\n",
    "    To calculate the loss, we need to convert the label Y to same format\n",
    "    So for that , we perform one hot encoding which does something like if label = 3 the, encoded format = (0,0,0,1,0,0,0,0,0,0)\n",
    "    \"\"\"\n",
    "    one_hot_Y = np.zeros((Y.size, Y.max() + 1))\n",
    "    #This creates a matrix of required size with zeroes\n",
    "    one_hot_Y[np.arange(Y.size), Y] = 1\n",
    "    #This sets the elements in one_hot_Y to 1 based on the class labels Y\n",
    "    one_hot_Y = one_hot_Y.T\n",
    "    return one_hot_Y"
   ]
  },
  {
   "cell_type": "code",
   "execution_count": 14,
   "metadata": {},
   "outputs": [],
   "source": [
    "def forward_propagation(W1, b1, W2, b2, W3, b3, X):\n",
    "    Z1 = W1.dot(X) + b1\n",
    "    A1 = ReLU(Z1)\n",
    "    Z2 = W2.dot(A1) + b2\n",
    "    A2 = ReLU(Z2)\n",
    "    Z3 = W3.dot(A2) + b3\n",
    "    A3 = Softmax(Z3)\n",
    "\n",
    "    return Z1, A1, Z2, A2, Z3, A3"
   ]
  },
  {
   "cell_type": "code",
   "execution_count": 15,
   "metadata": {},
   "outputs": [],
   "source": [
    "def derivative_ReLU(Z):\n",
    "    \"\"\"\n",
    "    This derivative is used to compute the gradients of the loss with respect to the input of the ReLU activation function to optimize our parameters\n",
    "    \"\"\"\n",
    "    #If any element in Z is greater than 0 , return 1 otherwise 0\n",
    "    return Z > 0"
   ]
  },
  {
   "cell_type": "code",
   "execution_count": 16,
   "metadata": {},
   "outputs": [],
   "source": [
    "def back_propagation(Z1, A1, Z2, A2, Z3, A3, W1, W2, W3, X, Y):\n",
    "    one_hot_Y = one_hot_encoding(Y)\n",
    "    \n",
    "    dZ3 = A3 - one_hot_Y\n",
    "    dW3 = 1 / m * dZ3.dot(A2.T)\n",
    "    db3 = 1 / m * np.sum(dZ3, axis=1, keepdims=True) \n",
    "    \n",
    "    dZ2 = W3.T.dot(dZ3) * derivative_ReLU(Z2)\n",
    "    dW2 = 1 / m * dZ2.dot(A1.T)\n",
    "    db2 = 1 / m * np.sum(dZ2, axis=1, keepdims=True)\n",
    "    \n",
    "    dZ1 = W2.T.dot(dZ2) * derivative_ReLU(Z1)\n",
    "    dW1 = 1 / m * dZ1.dot(X.T)\n",
    "    db1 = 1 / m * np.sum(dZ1, axis=1, keepdims=True)\n",
    "\n",
    "    return dW1, db1, dW2, db2, dW3, db3"
   ]
  },
  {
   "cell_type": "code",
   "execution_count": 17,
   "metadata": {},
   "outputs": [],
   "source": [
    "def update_parameters(W1, b1, W2, b2, W3, b3, dW1, db1, dW2, db2, dW3, db3, alpha):\n",
    "    \"\"\"\n",
    "    Use the cost function to update weights and biases\n",
    "    \"\"\"\n",
    "    W1 = W1 - alpha * dW1\n",
    "    b1 = b1 - alpha * db1\n",
    "    W2 = W2 - alpha * dW2\n",
    "    b2 = b2 - alpha * db2\n",
    "    W3 = W3 - alpha * dW3\n",
    "    b3 = b3 - alpha * db3\n",
    "\n",
    "    return W1, b1, W2, b2, W3, b3"
   ]
  },
  {
   "cell_type": "code",
   "execution_count": 18,
   "metadata": {},
   "outputs": [],
   "source": [
    "def predictions(A3):\n",
    "    \"\"\"\n",
    "    returns the index of the maximum value which will be the predicted label\n",
    "    \"\"\"\n",
    "    return np.argmax(A3, 0)"
   ]
  },
  {
   "cell_type": "code",
   "execution_count": 19,
   "metadata": {},
   "outputs": [],
   "source": [
    "def accuracy(predictions, Y):\n",
    "    \"\"\"\n",
    "    Calculates the accuracy of the model by comparing the predicted labels with the true labels\n",
    "    \"\"\"\n",
    "    return np.sum(predictions == Y) / Y.size"
   ]
  },
  {
   "cell_type": "code",
   "execution_count": 20,
   "metadata": {},
   "outputs": [],
   "source": [
    "def run(X, Y, alpha, epochs):\n",
    "    W1, b1, W2, b2, W3, b3 = initialize_parameters()\n",
    "    for i in range(epochs):\n",
    "        Z1, A1, Z2, A2, Z3, A3 = forward_propagation(W1, b1, W2, b2, W3, b3, X)\n",
    "        dW1, db1, dW2, db2, dW3, db3 = back_propagation(Z1, A1, Z2, A2, Z3, A3, W1, W2, W3, X, Y)\n",
    "        W1, b1, W2, b2, W3, b3 = update_parameters(W1, b1, W2, b2, W3, b3, dW1, db1, dW2, db2, dW3, db3, alpha)\n",
    "        #Print the accuracy at every 10th epoch\n",
    "        if i % 10 == 0:\n",
    "            print(\"Epoch:\", i)\n",
    "            prediction = predictions(A3)\n",
    "            print(f\"Accuracy: {accuracy(prediction, Y)}\")\n",
    "            print(\"~~~~~~~~~~~~~~~~~\")\n",
    "\n",
    "    return W1, b1, W2, b2, W3, b3"
   ]
  },
  {
   "cell_type": "code",
   "execution_count": 21,
   "metadata": {},
   "outputs": [
    {
     "name": "stdout",
     "output_type": "stream",
     "text": [
      "Epoch: 0\n",
      "Accuracy: 0.114975\n",
      "~~~~~~~~~~~~~~~~~\n",
      "Epoch: 10\n",
      "Accuracy: 0.475425\n",
      "~~~~~~~~~~~~~~~~~\n",
      "Epoch: 20\n",
      "Accuracy: 0.5989\n",
      "~~~~~~~~~~~~~~~~~\n",
      "Epoch: 30\n",
      "Accuracy: 0.672975\n",
      "~~~~~~~~~~~~~~~~~\n",
      "Epoch: 40\n",
      "Accuracy: 0.714425\n",
      "~~~~~~~~~~~~~~~~~\n",
      "Epoch: 50\n",
      "Accuracy: 0.741575\n",
      "~~~~~~~~~~~~~~~~~\n",
      "Epoch: 60\n",
      "Accuracy: 0.7617\n",
      "~~~~~~~~~~~~~~~~~\n",
      "Epoch: 70\n",
      "Accuracy: 0.7783\n",
      "~~~~~~~~~~~~~~~~~\n",
      "Epoch: 80\n",
      "Accuracy: 0.7918\n",
      "~~~~~~~~~~~~~~~~~\n",
      "Epoch: 90\n",
      "Accuracy: 0.8023\n",
      "~~~~~~~~~~~~~~~~~\n",
      "Epoch: 100\n",
      "Accuracy: 0.81225\n",
      "~~~~~~~~~~~~~~~~~\n",
      "Epoch: 110\n",
      "Accuracy: 0.819325\n",
      "~~~~~~~~~~~~~~~~~\n",
      "Epoch: 120\n",
      "Accuracy: 0.826925\n",
      "~~~~~~~~~~~~~~~~~\n",
      "Epoch: 130\n",
      "Accuracy: 0.833975\n",
      "~~~~~~~~~~~~~~~~~\n",
      "Epoch: 140\n",
      "Accuracy: 0.84035\n",
      "~~~~~~~~~~~~~~~~~\n",
      "Epoch: 150\n",
      "Accuracy: 0.845725\n",
      "~~~~~~~~~~~~~~~~~\n",
      "Epoch: 160\n",
      "Accuracy: 0.849825\n",
      "~~~~~~~~~~~~~~~~~\n",
      "Epoch: 170\n",
      "Accuracy: 0.854275\n",
      "~~~~~~~~~~~~~~~~~\n",
      "Epoch: 180\n",
      "Accuracy: 0.857825\n",
      "~~~~~~~~~~~~~~~~~\n",
      "Epoch: 190\n",
      "Accuracy: 0.861675\n",
      "~~~~~~~~~~~~~~~~~\n",
      "Epoch: 200\n",
      "Accuracy: 0.865\n",
      "~~~~~~~~~~~~~~~~~\n",
      "Epoch: 210\n",
      "Accuracy: 0.868475\n",
      "~~~~~~~~~~~~~~~~~\n",
      "Epoch: 220\n",
      "Accuracy: 0.8715\n",
      "~~~~~~~~~~~~~~~~~\n",
      "Epoch: 230\n",
      "Accuracy: 0.874075\n",
      "~~~~~~~~~~~~~~~~~\n",
      "Epoch: 240\n",
      "Accuracy: 0.8773\n",
      "~~~~~~~~~~~~~~~~~\n",
      "Epoch: 250\n",
      "Accuracy: 0.879575\n",
      "~~~~~~~~~~~~~~~~~\n",
      "Epoch: 260\n",
      "Accuracy: 0.882275\n",
      "~~~~~~~~~~~~~~~~~\n",
      "Epoch: 270\n",
      "Accuracy: 0.88455\n",
      "~~~~~~~~~~~~~~~~~\n",
      "Epoch: 280\n",
      "Accuracy: 0.8864\n",
      "~~~~~~~~~~~~~~~~~\n",
      "Epoch: 290\n",
      "Accuracy: 0.8886\n",
      "~~~~~~~~~~~~~~~~~\n",
      "Epoch: 300\n",
      "Accuracy: 0.890325\n",
      "~~~~~~~~~~~~~~~~~\n",
      "Epoch: 310\n",
      "Accuracy: 0.891925\n",
      "~~~~~~~~~~~~~~~~~\n",
      "Epoch: 320\n",
      "Accuracy: 0.893725\n",
      "~~~~~~~~~~~~~~~~~\n",
      "Epoch: 330\n",
      "Accuracy: 0.8953\n",
      "~~~~~~~~~~~~~~~~~\n",
      "Epoch: 340\n",
      "Accuracy: 0.89685\n",
      "~~~~~~~~~~~~~~~~~\n",
      "Epoch: 350\n",
      "Accuracy: 0.898475\n",
      "~~~~~~~~~~~~~~~~~\n",
      "Epoch: 360\n",
      "Accuracy: 0.8998\n",
      "~~~~~~~~~~~~~~~~~\n",
      "Epoch: 370\n",
      "Accuracy: 0.901075\n",
      "~~~~~~~~~~~~~~~~~\n",
      "Epoch: 380\n",
      "Accuracy: 0.902375\n",
      "~~~~~~~~~~~~~~~~~\n",
      "Epoch: 390\n",
      "Accuracy: 0.903625\n",
      "~~~~~~~~~~~~~~~~~\n",
      "Epoch: 400\n",
      "Accuracy: 0.904825\n",
      "~~~~~~~~~~~~~~~~~\n",
      "Epoch: 410\n",
      "Accuracy: 0.905775\n",
      "~~~~~~~~~~~~~~~~~\n",
      "Epoch: 420\n",
      "Accuracy: 0.906925\n",
      "~~~~~~~~~~~~~~~~~\n",
      "Epoch: 430\n",
      "Accuracy: 0.90825\n",
      "~~~~~~~~~~~~~~~~~\n",
      "Epoch: 440\n",
      "Accuracy: 0.909275\n",
      "~~~~~~~~~~~~~~~~~\n",
      "Epoch: 450\n",
      "Accuracy: 0.91015\n",
      "~~~~~~~~~~~~~~~~~\n",
      "Epoch: 460\n",
      "Accuracy: 0.911275\n",
      "~~~~~~~~~~~~~~~~~\n",
      "Epoch: 470\n",
      "Accuracy: 0.912325\n",
      "~~~~~~~~~~~~~~~~~\n",
      "Epoch: 480\n",
      "Accuracy: 0.91325\n",
      "~~~~~~~~~~~~~~~~~\n",
      "Epoch: 490\n",
      "Accuracy: 0.9144\n",
      "~~~~~~~~~~~~~~~~~\n"
     ]
    }
   ],
   "source": [
    "W1, b1, W2, b2, W3, b3 = run(X_train, Y_train, 0.10, 500)"
   ]
  },
  {
   "cell_type": "code",
   "execution_count": 22,
   "metadata": {},
   "outputs": [],
   "source": [
    "def make_predictions(X, W1, b1, W2, b2, W3, b3):\n",
    "    Z1, A1, Z2, A2, Z3, A3 = forward_propagation(W1, b1, W2, b2, W3, b3, X)\n",
    "    prediction = predictions(A3)\n",
    "    return prediction"
   ]
  },
  {
   "cell_type": "code",
   "execution_count": 23,
   "metadata": {},
   "outputs": [
    {
     "data": {
      "text/plain": [
       "89.60000000000001"
      ]
     },
     "execution_count": 23,
     "metadata": {},
     "output_type": "execute_result"
    }
   ],
   "source": [
    "val_prediction = make_predictions(X_val, W1, b1, W2, b2, W3, b3)\n",
    "accuracy(val_prediction, Y_val) * 100"
   ]
  },
  {
   "cell_type": "markdown",
   "metadata": {},
   "source": [
    "We got a  89 percent accuracy on the validation set too after 500 epochs"
   ]
  },
  {
   "cell_type": "code",
   "execution_count": 24,
   "metadata": {},
   "outputs": [],
   "source": [
    "import matplotlib.pyplot as plt"
   ]
  },
  {
   "cell_type": "code",
   "execution_count": 25,
   "metadata": {},
   "outputs": [],
   "source": [
    "def test_prediction(index, W1, b1, W2, b2, W3, b3):\n",
    "    current_image = X_train[:, index, None]\n",
    "    prediction = make_predictions(X_train[:, index, None], W1, b1, W2, b2, W3, b3)\n",
    "    label = Y_train[index]\n",
    "    print(\"Prediction: \", prediction)\n",
    "    print(\"Label: \", label)\n",
    "\n",
    "    current_image = current_image.reshape((28, 28)) * 255\n",
    "    plt.gray()\n",
    "    plt.imshow(current_image, interpolation='nearest')\n",
    "    plt.show()"
   ]
  },
  {
   "cell_type": "code",
   "execution_count": 26,
   "metadata": {},
   "outputs": [
    {
     "name": "stdout",
     "output_type": "stream",
     "text": [
      "Prediction:  [7]\n",
      "Label:  7\n"
     ]
    },
    {
     "data": {
      "image/png": "[encoded data removed]",
      "text/plain": [
       "<Figure size 640x480 with 1 Axes>"
      ]
     },
     "metadata": {},
     "output_type": "display_data"
    }
   ],
   "source": [
    "test_prediction(56, W1, b1, W2, b2, W3, b3)"
   ]
  },
  {
   "cell_type": "code",
   "execution_count": null,
   "metadata": {},
   "outputs": [],
   "source": []
  },
  {
   "cell_type": "code",
   "execution_count": null,
   "metadata": {},
   "outputs": [],
   "source": []
  }
 ],
 "metadata": {
  "kernelspec": {
   "display_name": "Python 3",
   "language": "python",
   "name": "python3"
  },
  "language_info": {
   "codemirror_mode": {
    "name": "ipython",
    "version": 3
   },
   "file_extension": ".py",
   "mimetype": "text/x-python",
   "name": "python",
   "nbconvert_exporter": "python",
   "pygments_lexer": "ipython3",
   "version": "3.10.12"
  }
 },
 "nbformat": 4,
 "nbformat_minor": 2
}
