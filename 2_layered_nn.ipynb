{
  "cells": [
    {
      "cell_type": "code",
      "execution_count": 342,
      "metadata": {
        "id": "AFRdJxcTYZAK"
      },
      "outputs": [],
      "source": [
        "import pandas as pd"
      ]
    },
    {
      "cell_type": "code",
      "execution_count": 343,
      "metadata": {
        "id": "l4AQml_DYeLh"
      },
      "outputs": [],
      "source": [
        "df = pd.read_csv(\"/content/drive/MyDrive/train.csv\")"
      ]
    },
    {
      "cell_type": "code",
      "execution_count": 344,
      "metadata": {
        "colab": {
          "base_uri": "https://localhost:8080/",
          "height": 256
        },
        "id": "XpzMn_qxZUYK",
        "outputId": "26324c08-3f8d-4b5f-d7a2-e840e3626e4d"
      },
      "outputs": [
        {
          "data": {
            "text/html": [
              "\n",
              "  <div id=\"df-985bd6f8-6e21-4fe8-9939-1ec42604e331\" class=\"colab-df-container\">\n",
              "    <div>\n",
              "<style scoped>\n",
              "    .dataframe tbody tr th:only-of-type {\n",
              "        vertical-align: middle;\n",
              "    }\n",
              "\n",
              "    .dataframe tbody tr th {\n",
              "        vertical-align: top;\n",
              "    }\n",
              "\n",
              "    .dataframe thead th {\n",
              "        text-align: right;\n",
              "    }\n",
              "</style>\n",
              "<table border=\"1\" class=\"dataframe\">\n",
              "  <thead>\n",
              "    <tr style=\"text-align: right;\">\n",
              "      <th></th>\n",
              "      <th>label</th>\n",
              "      <th>pixel0</th>\n",
              "      <th>pixel1</th>\n",
              "      <th>pixel2</th>\n",
              "      <th>pixel3</th>\n",
              "      <th>pixel4</th>\n",
              "      <th>pixel5</th>\n",
              "      <th>pixel6</th>\n",
              "      <th>pixel7</th>\n",
              "      <th>pixel8</th>\n",
              "      <th>...</th>\n",
              "      <th>pixel774</th>\n",
              "      <th>pixel775</th>\n",
              "      <th>pixel776</th>\n",
              "      <th>pixel777</th>\n",
              "      <th>pixel778</th>\n",
              "      <th>pixel779</th>\n",
              "      <th>pixel780</th>\n",
              "      <th>pixel781</th>\n",
              "      <th>pixel782</th>\n",
              "      <th>pixel783</th>\n",
              "    </tr>\n",
              "  </thead>\n",
              "  <tbody>\n",
              "    <tr>\n",
              "      <th>0</th>\n",
              "      <td>1</td>\n",
              "      <td>0</td>\n",
              "      <td>0</td>\n",
              "      <td>0</td>\n",
              "      <td>0</td>\n",
              "      <td>0</td>\n",
              "      <td>0</td>\n",
              "      <td>0</td>\n",
              "      <td>0</td>\n",
              "      <td>0</td>\n",
              "      <td>...</td>\n",
              "      <td>0</td>\n",
              "      <td>0</td>\n",
              "      <td>0</td>\n",
              "      <td>0</td>\n",
              "      <td>0</td>\n",
              "      <td>0</td>\n",
              "      <td>0</td>\n",
              "      <td>0</td>\n",
              "      <td>0</td>\n",
              "      <td>0</td>\n",
              "    </tr>\n",
              "    <tr>\n",
              "      <th>1</th>\n",
              "      <td>0</td>\n",
              "      <td>0</td>\n",
              "      <td>0</td>\n",
              "      <td>0</td>\n",
              "      <td>0</td>\n",
              "      <td>0</td>\n",
              "      <td>0</td>\n",
              "      <td>0</td>\n",
              "      <td>0</td>\n",
              "      <td>0</td>\n",
              "      <td>...</td>\n",
              "      <td>0</td>\n",
              "      <td>0</td>\n",
              "      <td>0</td>\n",
              "      <td>0</td>\n",
              "      <td>0</td>\n",
              "      <td>0</td>\n",
              "      <td>0</td>\n",
              "      <td>0</td>\n",
              "      <td>0</td>\n",
              "      <td>0</td>\n",
              "    </tr>\n",
              "    <tr>\n",
              "      <th>2</th>\n",
              "      <td>1</td>\n",
              "      <td>0</td>\n",
              "      <td>0</td>\n",
              "      <td>0</td>\n",
              "      <td>0</td>\n",
              "      <td>0</td>\n",
              "      <td>0</td>\n",
              "      <td>0</td>\n",
              "      <td>0</td>\n",
              "      <td>0</td>\n",
              "      <td>...</td>\n",
              "      <td>0</td>\n",
              "      <td>0</td>\n",
              "      <td>0</td>\n",
              "      <td>0</td>\n",
              "      <td>0</td>\n",
              "      <td>0</td>\n",
              "      <td>0</td>\n",
              "      <td>0</td>\n",
              "      <td>0</td>\n",
              "      <td>0</td>\n",
              "    </tr>\n",
              "    <tr>\n",
              "      <th>3</th>\n",
              "      <td>4</td>\n",
              "      <td>0</td>\n",
              "      <td>0</td>\n",
              "      <td>0</td>\n",
              "      <td>0</td>\n",
              "      <td>0</td>\n",
              "      <td>0</td>\n",
              "      <td>0</td>\n",
              "      <td>0</td>\n",
              "      <td>0</td>\n",
              "      <td>...</td>\n",
              "      <td>0</td>\n",
              "      <td>0</td>\n",
              "      <td>0</td>\n",
              "      <td>0</td>\n",
              "      <td>0</td>\n",
              "      <td>0</td>\n",
              "      <td>0</td>\n",
              "      <td>0</td>\n",
              "      <td>0</td>\n",
              "      <td>0</td>\n",
              "    </tr>\n",
              "    <tr>\n",
              "      <th>4</th>\n",
              "      <td>0</td>\n",
              "      <td>0</td>\n",
              "      <td>0</td>\n",
              "      <td>0</td>\n",
              "      <td>0</td>\n",
              "      <td>0</td>\n",
              "      <td>0</td>\n",
              "      <td>0</td>\n",
              "      <td>0</td>\n",
              "      <td>0</td>\n",
              "      <td>...</td>\n",
              "      <td>0</td>\n",
              "      <td>0</td>\n",
              "      <td>0</td>\n",
              "      <td>0</td>\n",
              "      <td>0</td>\n",
              "      <td>0</td>\n",
              "      <td>0</td>\n",
              "      <td>0</td>\n",
              "      <td>0</td>\n",
              "      <td>0</td>\n",
              "    </tr>\n",
              "  </tbody>\n",
              "</table>\n",
              "<p>5 rows × 785 columns</p>\n",
              "</div>\n",
              "    <div class=\"colab-df-buttons\">\n",
              "\n",
              "  <div class=\"colab-df-container\">\n",
              "    <button class=\"colab-df-convert\" onclick=\"convertToInteractive('df-985bd6f8-6e21-4fe8-9939-1ec42604e331')\"\n",
              "            title=\"Convert this dataframe to an interactive table.\"\n",
              "            style=\"display:none;\">\n",
              "\n",
              "  <svg xmlns=\"http://www.w3.org/2000/svg\" height=\"24px\" viewBox=\"0 -960 960 960\">\n",
              "    <path d=\"M120-120v-720h720v720H120Zm60-500h600v-160H180v160Zm220 220h160v-160H400v160Zm0 220h160v-160H400v160ZM180-400h160v-160H180v160Zm440 0h160v-160H620v160ZM180-180h160v-160H180v160Zm440 0h160v-160H620v160Z\"/>\n",
              "  </svg>\n",
              "    </button>\n",
              "\n",
              "  <style>\n",
              "    .colab-df-container {\n",
              "      display:flex;\n",
              "      gap: 12px;\n",
              "    }\n",
              "\n",
              "    .colab-df-convert {\n",
              "      background-color: #E8F0FE;\n",
              "      border: none;\n",
              "      border-radius: 50%;\n",
              "      cursor: pointer;\n",
              "      display: none;\n",
              "      fill: #1967D2;\n",
              "      height: 32px;\n",
              "      padding: 0 0 0 0;\n",
              "      width: 32px;\n",
              "    }\n",
              "\n",
              "    .colab-df-convert:hover {\n",
              "      background-color: #E2EBFA;\n",
              "      box-shadow: 0px 1px 2px rgba(60, 64, 67, 0.3), 0px 1px 3px 1px rgba(60, 64, 67, 0.15);\n",
              "      fill: #174EA6;\n",
              "    }\n",
              "\n",
              "    .colab-df-buttons div {\n",
              "      margin-bottom: 4px;\n",
              "    }\n",
              "\n",
              "    [theme=dark] .colab-df-convert {\n",
              "      background-color: #3B4455;\n",
              "      fill: #D2E3FC;\n",
              "    }\n",
              "\n",
              "    [theme=dark] .colab-df-convert:hover {\n",
              "      background-color: #434B5C;\n",
              "      box-shadow: 0px 1px 3px 1px rgba(0, 0, 0, 0.15);\n",
              "      filter: drop-shadow(0px 1px 2px rgba(0, 0, 0, 0.3));\n",
              "      fill: #FFFFFF;\n",
              "    }\n",
              "  </style>\n",
              "\n",
              "    <script>\n",
              "      const buttonEl =\n",
              "        document.querySelector('#df-985bd6f8-6e21-4fe8-9939-1ec42604e331 button.colab-df-convert');\n",
              "      buttonEl.style.display =\n",
              "        google.colab.kernel.accessAllowed ? 'block' : 'none';\n",
              "\n",
              "      async function convertToInteractive(key) {\n",
              "        const element = document.querySelector('#df-985bd6f8-6e21-4fe8-9939-1ec42604e331');\n",
              "        const dataTable =\n",
              "          await google.colab.kernel.invokeFunction('convertToInteractive',\n",
              "                                                    [key], {});\n",
              "        if (!dataTable) return;\n",
              "\n",
              "        const docLinkHtml = 'Like what you see? Visit the ' +\n",
              "          '<a target=\"_blank\" href=https://colab.research.google.com/notebooks/data_table.ipynb>data table notebook</a>'\n",
              "          + ' to learn more about interactive tables.';\n",
              "        element.innerHTML = '';\n",
              "        dataTable['output_type'] = 'display_data';\n",
              "        await google.colab.output.renderOutput(dataTable, element);\n",
              "        const docLink = document.createElement('div');\n",
              "        docLink.innerHTML = docLinkHtml;\n",
              "        element.appendChild(docLink);\n",
              "      }\n",
              "    </script>\n",
              "  </div>\n",
              "\n",
              "\n",
              "<div id=\"df-f4967eca-cea6-4c65-90ec-cdf89a970186\">\n",
              "  <button class=\"colab-df-quickchart\" onclick=\"quickchart('df-f4967eca-cea6-4c65-90ec-cdf89a970186')\"\n",
              "            title=\"Suggest charts\"\n",
              "            style=\"display:none;\">\n",
              "\n",
              "<svg xmlns=\"http://www.w3.org/2000/svg\" height=\"24px\"viewBox=\"0 0 24 24\"\n",
              "     width=\"24px\">\n",
              "    <g>\n",
              "        <path d=\"M19 3H5c-1.1 0-2 .9-2 2v14c0 1.1.9 2 2 2h14c1.1 0 2-.9 2-2V5c0-1.1-.9-2-2-2zM9 17H7v-7h2v7zm4 0h-2V7h2v10zm4 0h-2v-4h2v4z\"/>\n",
              "    </g>\n",
              "</svg>\n",
              "  </button>\n",
              "\n",
              "<style>\n",
              "  .colab-df-quickchart {\n",
              "      --bg-color: #E8F0FE;\n",
              "      --fill-color: #1967D2;\n",
              "      --hover-bg-color: #E2EBFA;\n",
              "      --hover-fill-color: #174EA6;\n",
              "      --disabled-fill-color: #AAA;\n",
              "      --disabled-bg-color: #DDD;\n",
              "  }\n",
              "\n",
              "  [theme=dark] .colab-df-quickchart {\n",
              "      --bg-color: #3B4455;\n",
              "      --fill-color: #D2E3FC;\n",
              "      --hover-bg-color: #434B5C;\n",
              "      --hover-fill-color: #FFFFFF;\n",
              "      --disabled-bg-color: #3B4455;\n",
              "      --disabled-fill-color: #666;\n",
              "  }\n",
              "\n",
              "  .colab-df-quickchart {\n",
              "    background-color: var(--bg-color);\n",
              "    border: none;\n",
              "    border-radius: 50%;\n",
              "    cursor: pointer;\n",
              "    display: none;\n",
              "    fill: var(--fill-color);\n",
              "    height: 32px;\n",
              "    padding: 0;\n",
              "    width: 32px;\n",
              "  }\n",
              "\n",
              "  .colab-df-quickchart:hover {\n",
              "    background-color: var(--hover-bg-color);\n",
              "    box-shadow: 0 1px 2px rgba(60, 64, 67, 0.3), 0 1px 3px 1px rgba(60, 64, 67, 0.15);\n",
              "    fill: var(--button-hover-fill-color);\n",
              "  }\n",
              "\n",
              "  .colab-df-quickchart-complete:disabled,\n",
              "  .colab-df-quickchart-complete:disabled:hover {\n",
              "    background-color: var(--disabled-bg-color);\n",
              "    fill: var(--disabled-fill-color);\n",
              "    box-shadow: none;\n",
              "  }\n",
              "\n",
              "  .colab-df-spinner {\n",
              "    border: 2px solid var(--fill-color);\n",
              "    border-color: transparent;\n",
              "    border-bottom-color: var(--fill-color);\n",
              "    animation:\n",
              "      spin 1s steps(1) infinite;\n",
              "  }\n",
              "\n",
              "  @keyframes spin {\n",
              "    0% {\n",
              "      border-color: transparent;\n",
              "      border-bottom-color: var(--fill-color);\n",
              "      border-left-color: var(--fill-color);\n",
              "    }\n",
              "    20% {\n",
              "      border-color: transparent;\n",
              "      border-left-color: var(--fill-color);\n",
              "      border-top-color: var(--fill-color);\n",
              "    }\n",
              "    30% {\n",
              "      border-color: transparent;\n",
              "      border-left-color: var(--fill-color);\n",
              "      border-top-color: var(--fill-color);\n",
              "      border-right-color: var(--fill-color);\n",
              "    }\n",
              "    40% {\n",
              "      border-color: transparent;\n",
              "      border-right-color: var(--fill-color);\n",
              "      border-top-color: var(--fill-color);\n",
              "    }\n",
              "    60% {\n",
              "      border-color: transparent;\n",
              "      border-right-color: var(--fill-color);\n",
              "    }\n",
              "    80% {\n",
              "      border-color: transparent;\n",
              "      border-right-color: var(--fill-color);\n",
              "      border-bottom-color: var(--fill-color);\n",
              "    }\n",
              "    90% {\n",
              "      border-color: transparent;\n",
              "      border-bottom-color: var(--fill-color);\n",
              "    }\n",
              "  }\n",
              "</style>\n",
              "\n",
              "  <script>\n",
              "    async function quickchart(key) {\n",
              "      const quickchartButtonEl =\n",
              "        document.querySelector('#' + key + ' button');\n",
              "      quickchartButtonEl.disabled = true;  // To prevent multiple clicks.\n",
              "      quickchartButtonEl.classList.add('colab-df-spinner');\n",
              "      try {\n",
              "        const charts = await google.colab.kernel.invokeFunction(\n",
              "            'suggestCharts', [key], {});\n",
              "      } catch (error) {\n",
              "        console.error('Error during call to suggestCharts:', error);\n",
              "      }\n",
              "      quickchartButtonEl.classList.remove('colab-df-spinner');\n",
              "      quickchartButtonEl.classList.add('colab-df-quickchart-complete');\n",
              "    }\n",
              "    (() => {\n",
              "      let quickchartButtonEl =\n",
              "        document.querySelector('#df-f4967eca-cea6-4c65-90ec-cdf89a970186 button');\n",
              "      quickchartButtonEl.style.display =\n",
              "        google.colab.kernel.accessAllowed ? 'block' : 'none';\n",
              "    })();\n",
              "  </script>\n",
              "</div>\n",
              "    </div>\n",
              "  </div>\n"
            ],
            "text/plain": [
              "   label  pixel0  pixel1  pixel2  pixel3  pixel4  pixel5  pixel6  pixel7  \\\n",
              "0      1       0       0       0       0       0       0       0       0   \n",
              "1      0       0       0       0       0       0       0       0       0   \n",
              "2      1       0       0       0       0       0       0       0       0   \n",
              "3      4       0       0       0       0       0       0       0       0   \n",
              "4      0       0       0       0       0       0       0       0       0   \n",
              "\n",
              "   pixel8  ...  pixel774  pixel775  pixel776  pixel777  pixel778  pixel779  \\\n",
              "0       0  ...         0         0         0         0         0         0   \n",
              "1       0  ...         0         0         0         0         0         0   \n",
              "2       0  ...         0         0         0         0         0         0   \n",
              "3       0  ...         0         0         0         0         0         0   \n",
              "4       0  ...         0         0         0         0         0         0   \n",
              "\n",
              "   pixel780  pixel781  pixel782  pixel783  \n",
              "0         0         0         0         0  \n",
              "1         0         0         0         0  \n",
              "2         0         0         0         0  \n",
              "3         0         0         0         0  \n",
              "4         0         0         0         0  \n",
              "\n",
              "[5 rows x 785 columns]"
            ]
          },
          "execution_count": 344,
          "metadata": {},
          "output_type": "execute_result"
        }
      ],
      "source": [
        "df.head(5)"
      ]
    },
    {
      "cell_type": "markdown",
      "metadata": {
        "id": "eReujSscU6Z6"
      },
      "source": [
        "Since we are going to perform mathematical operations, we need to convert the pandas dataframe to a numpy array"
      ]
    },
    {
      "cell_type": "code",
      "execution_count": 345,
      "metadata": {
        "colab": {
          "base_uri": "https://localhost:8080/"
        },
        "id": "n927ftcbZWB0",
        "outputId": "fd54769a-3a1d-467a-ef07-fd557b1e50f3"
      },
      "outputs": [
        {
          "name": "stdout",
          "output_type": "stream",
          "text": [
            "m: 42000\n",
            "n: 785\n"
          ]
        }
      ],
      "source": [
        "import numpy as np\n",
        "data = np.array(df)\n",
        "m,n = data.shape\n",
        "print(f\"m: {m}\")\n",
        "print(f\"n: {n}\")"
      ]
    },
    {
      "cell_type": "markdown",
      "metadata": {
        "id": "AkTEZFFCU9EB"
      },
      "source": [
        "So we have 42000 training examples and 784 features each excluding the label column"
      ]
    },
    {
      "cell_type": "code",
      "execution_count": 346,
      "metadata": {
        "colab": {
          "base_uri": "https://localhost:8080/"
        },
        "id": "hc0EaNJLZYL6",
        "outputId": "dfdfcf27-79ea-4477-8052-acf30009ef86"
      },
      "outputs": [
        {
          "data": {
            "text/plain": [
              "array([[1, 0, 0, ..., 0, 0, 0],\n",
              "       [0, 0, 0, ..., 0, 0, 0],\n",
              "       [1, 0, 0, ..., 0, 0, 0],\n",
              "       [4, 0, 0, ..., 0, 0, 0],\n",
              "       [0, 0, 0, ..., 0, 0, 0]])"
            ]
          },
          "execution_count": 346,
          "metadata": {},
          "output_type": "execute_result"
        }
      ],
      "source": [
        "data[:5]"
      ]
    },
    {
      "cell_type": "markdown",
      "metadata": {
        "id": "4RjtOWl0VAQ8"
      },
      "source": [
        "First columns is the label and rest are pixel values or the features"
      ]
    },
    {
      "cell_type": "code",
      "execution_count": 347,
      "metadata": {
        "colab": {
          "base_uri": "https://localhost:8080/"
        },
        "id": "sU3vwIGeZaRV",
        "outputId": "4c5e0a5d-5495-4f87-f9a7-a78b1c33753b"
      },
      "outputs": [
        {
          "data": {
            "text/plain": [
              "array([[1, 0, 1, 4, 0],\n",
              "       [0, 0, 0, 0, 0],\n",
              "       [0, 0, 0, 0, 0],\n",
              "       ...,\n",
              "       [0, 0, 0, 0, 0],\n",
              "       [0, 0, 0, 0, 0],\n",
              "       [0, 0, 0, 0, 0]])"
            ]
          },
          "execution_count": 347,
          "metadata": {},
          "output_type": "execute_result"
        }
      ],
      "source": [
        "data[:5].T"
      ]
    },
    {
      "cell_type": "markdown",
      "metadata": {
        "id": "_ZJ-rECYVCQN"
      },
      "source": [
        "As we can see after transpose, we get the first row as the label. This makes easy in retrieving the target variable for splitting."
      ]
    },
    {
      "cell_type": "markdown",
      "metadata": {
        "id": "h51rjW7oVG1E"
      },
      "source": [
        "Lets take first 2000 samples after shuffling as validation set and rest as train set"
      ]
    },
    {
      "cell_type": "code",
      "execution_count": 348,
      "metadata": {
        "id": "27w1QmdWZcD8"
      },
      "outputs": [],
      "source": [
        "np.random.shuffle(data)\n",
        "val_data = data[0 : 2000].T\n",
        "Y_val = val_data[0]\n",
        "X_val = val_data[1 : n]\n",
        "X_val = X_val / 255."
      ]
    },
    {
      "cell_type": "code",
      "execution_count": 349,
      "metadata": {
        "id": "eDPxMf-FZeNp"
      },
      "outputs": [],
      "source": [
        "train_data = data[2000 : m].T\n",
        "Y_train = train_data[0]\n",
        "X_train = train_data[1 : n]\n",
        "X_train = X_train / 255."
      ]
    },
    {
      "cell_type": "code",
      "execution_count": 350,
      "metadata": {
        "id": "nW5nZV1HZf6z"
      },
      "outputs": [],
      "source": [
        "def initialize_parameters():\n",
        "    \"\"\"\n",
        "    This function initializes random values for initial weights and biases of our neural network\n",
        "    There will be a input layer, one hidden layer with 10 neurons and output layer with 10 neurons representing mnist digits\n",
        "    \"\"\"\n",
        "\n",
        "    W1 = np.random.rand(10, 784) - 0.5\n",
        "    #returns an array of random values between (0, 1) with the shape (10, 784)\n",
        "    b1 = np.random.rand(10, 1) - 0.5\n",
        "    #returns an array of random values between (0, 1) with the shape (10, 1)\n",
        "    W2 = np.random.rand(10, 10) - 0.5\n",
        "    #returns an array of random values between (0, 1) with the shape (10, 10)\n",
        "    b2 = np.random.rand(10, 1) - 0.5\n",
        "    #returns an array of random values between (0, 1) with the shape (10, 1)\n",
        "\n",
        "    return W1, b1, W2, b2\n"
      ]
    },
    {
      "cell_type": "code",
      "execution_count": 351,
      "metadata": {
        "id": "yY7Y6qIUZiBc"
      },
      "outputs": [],
      "source": [
        "def ReLU(Z):\n",
        "    \"\"\"\n",
        "    For each element in Z, the ReLU function returns Z if Z is positive and return 0 if Z is negative\n",
        "    \"\"\"\n",
        "    return np.maximum(Z ,0)"
      ]
    },
    {
      "cell_type": "code",
      "execution_count": 352,
      "metadata": {
        "id": "CaLoBIS6Zjzm"
      },
      "outputs": [],
      "source": [
        "def Softmax(Z):\n",
        "    \"\"\"\n",
        "    The Softmax function converts the final score into probability distribution over different classes\n",
        "    np.exp(Z) calculates the element-wise exponential of input Z\n",
        "    np.sum(np.exp(Z)) calculates the sum of the exponentiated values of ell elements of Z\n",
        "    \"\"\"\n",
        "    #Z -= np.max(Z)\n",
        "    B = np.exp(Z)\n",
        "    C = sum(np.exp(Z))\n",
        "    #print(B)\n",
        "    #print(C)\n",
        "    A = B / C\n",
        "    #print(A)\n",
        "    return A"
      ]
    },
    {
      "cell_type": "code",
      "execution_count": 353,
      "metadata": {
        "id": "MvjmIOEnZlfS"
      },
      "outputs": [],
      "source": [
        "def one_hot(Y):\n",
        "    \"\"\"\n",
        "    We have our final output as probability distribution over 10 classes\n",
        "    To calculate the loss, we need to convert the label Y to same format\n",
        "    So for that , we perform one hot encoding which does something like if label = 3 the, encoded format = (0,0,0,1,0,0,0,0,0,0)\n",
        "    \"\"\"\n",
        "    one_hot_Y = np.zeros((Y.size, Y.max() + 1))\n",
        "    #This creates a matrix of required size with zeroes\n",
        "    one_hot_Y[np.arange(Y.size), Y] = 1\n",
        "    #This sets the elements in one_hot_Y to 1 based on the class labels Y\n",
        "    one_hot_Y = one_hot_Y.T\n",
        "    return one_hot_Y"
      ]
    },
    {
      "cell_type": "code",
      "execution_count": 354,
      "metadata": {
        "id": "LtnxC8PwZnpa"
      },
      "outputs": [],
      "source": [
        "def forward_propagation(W1, b1, W2, b2, X):\n",
        "    #print(X)\n",
        "    Z1 = W1.dot(X) + b1\n",
        "    #print(Z1)\n",
        "    A1 = ReLU(Z1)\n",
        "    #print(A1)\n",
        "    Z2 = W2.dot(A1) + b2\n",
        "    #print(Z2)\n",
        "    A2 = Softmax(Z2)\n",
        "    return Z1, A1, Z2, A2"
      ]
    },
    {
      "cell_type": "code",
      "execution_count": 355,
      "metadata": {
        "id": "M3E7qvw8ZplI"
      },
      "outputs": [],
      "source": [
        "def derative_ReLU(Z):\n",
        "    \"\"\"\n",
        "    This derivative is used to compute the gradients of the loss with respect to the input of the ReLU activation function to optimize our parameters\n",
        "    \"\"\"\n",
        "    #If any element in Z is greater than 0 , return 1 otherwise 0\n",
        "    return Z > 0"
      ]
    },
    {
      "cell_type": "code",
      "execution_count": 356,
      "metadata": {
        "id": "fltEcO6uZrrn"
      },
      "outputs": [],
      "source": [
        "def back_propagation(Z1, A1, Z2, A2, W1, W2, X, Y):\n",
        "    one_hot_Y = one_hot(Y)\n",
        "    dZ2 = A2 - one_hot_Y\n",
        "    dW2 = 1 / m * dZ2.dot(A1.T)\n",
        "    db2 = 1 / m * np.sum(dZ2)\n",
        "    dZ1 = W2.T.dot(dZ2) * derative_ReLU(Z1)\n",
        "    dW1 = 1 / m * dZ1.dot(X.T)\n",
        "    db1 = 1 / m * np.sum(dZ1)\n",
        "\n",
        "    return dW1, db1, dW2, db2"
      ]
    },
    {
      "cell_type": "code",
      "execution_count": 357,
      "metadata": {
        "id": "Tg3mdn2aZujw"
      },
      "outputs": [],
      "source": [
        "def update_parameters(W1, b1, W2, b2, dW1, db1, dW2, db2, alpha):\n",
        "    \"\"\"\n",
        "    Use the cost function to update weights and biases\n",
        "    \"\"\"\n",
        "    W1 = W1 - alpha * dW1\n",
        "    b1 = b1 - alpha * db1\n",
        "    W2 = W2 - alpha * dW2\n",
        "    b2 = b2 - alpha * db2\n",
        "\n",
        "    return W1, b1, W2, b2"
      ]
    },
    {
      "cell_type": "code",
      "execution_count": 358,
      "metadata": {
        "id": "Gf_gqPEYZwZC"
      },
      "outputs": [],
      "source": [
        "def prediction(A2):\n",
        "    \"\"\"\n",
        "    returns the index of the maximum value which will be the predicted label\n",
        "    \"\"\"\n",
        "    return np.argmax(A2, 0)"
      ]
    },
    {
      "cell_type": "code",
      "execution_count": 359,
      "metadata": {
        "id": "jDAifexwZy5F"
      },
      "outputs": [],
      "source": [
        "def accuracy(predictions, Y):\n",
        "    \"\"\"\n",
        "    Calculates the accuracy of the model by comparing the predicted labels with the true labels\n",
        "    \"\"\"\n",
        "    return np.sum(predictions == Y) / Y.size"
      ]
    },
    {
      "cell_type": "code",
      "execution_count": 360,
      "metadata": {
        "id": "aisr-vj-Z0k6"
      },
      "outputs": [],
      "source": [
        "def run(X, Y, alpha, epochs):\n",
        "    W1, b1, W2, b2 = initialize_parameters()\n",
        "    for i in range(epochs):\n",
        "        Z1, A1, Z2, A2 = forward_propagation(W1, b1, W2, b2, X)\n",
        "        dW1, db1, dW2, db2 = back_propagation(Z1, A1, Z2, A2, W1, W2, X, Y)\n",
        "        W1, b1, W2, b2 = update_parameters(W1, b1, W2, b2, dW1, db1, dW2, db2, alpha)\n",
        "        #Print the accuracy at every 10th epoch\n",
        "        if i % 10 == 0:\n",
        "            print(\"Epoch:\", i)\n",
        "            predictions = prediction(A2)\n",
        "            print(f\"Accuracy: {accuracy(predictions, Y)}\")\n",
        "            print(\"~~~~~~~~~~~~~~~~~\")\n",
        "\n",
        "    return W1, b1, W2, b2"
      ]
    },
    {
      "cell_type": "code",
      "execution_count": 361,
      "metadata": {
        "colab": {
          "base_uri": "https://localhost:8080/"
        },
        "id": "iael74mBZ2WY",
        "outputId": "0108fcfb-6937-46fe-a46f-49a8833c2e2b"
      },
      "outputs": [
        {
          "name": "stdout",
          "output_type": "stream",
          "text": [
            "Epoch: 0\n",
            "Accuracy: 0.10215\n",
            "~~~~~~~~~~~~~~~~~\n",
            "Epoch: 10\n",
            "Accuracy: 0.173775\n",
            "~~~~~~~~~~~~~~~~~\n",
            "Epoch: 20\n",
            "Accuracy: 0.239925\n",
            "~~~~~~~~~~~~~~~~~\n",
            "Epoch: 30\n",
            "Accuracy: 0.2965\n",
            "~~~~~~~~~~~~~~~~~\n",
            "Epoch: 40\n",
            "Accuracy: 0.346925\n",
            "~~~~~~~~~~~~~~~~~\n",
            "Epoch: 50\n",
            "Accuracy: 0.392125\n",
            "~~~~~~~~~~~~~~~~~\n",
            "Epoch: 60\n",
            "Accuracy: 0.44515\n",
            "~~~~~~~~~~~~~~~~~\n",
            "Epoch: 70\n",
            "Accuracy: 0.5041\n",
            "~~~~~~~~~~~~~~~~~\n",
            "Epoch: 80\n",
            "Accuracy: 0.550425\n",
            "~~~~~~~~~~~~~~~~~\n",
            "Epoch: 90\n",
            "Accuracy: 0.58875\n",
            "~~~~~~~~~~~~~~~~~\n",
            "Epoch: 100\n",
            "Accuracy: 0.618425\n",
            "~~~~~~~~~~~~~~~~~\n",
            "Epoch: 110\n",
            "Accuracy: 0.64245\n",
            "~~~~~~~~~~~~~~~~~\n",
            "Epoch: 120\n",
            "Accuracy: 0.662825\n",
            "~~~~~~~~~~~~~~~~~\n",
            "Epoch: 130\n",
            "Accuracy: 0.6785\n",
            "~~~~~~~~~~~~~~~~~\n",
            "Epoch: 140\n",
            "Accuracy: 0.69395\n",
            "~~~~~~~~~~~~~~~~~\n",
            "Epoch: 150\n",
            "Accuracy: 0.70655\n",
            "~~~~~~~~~~~~~~~~~\n",
            "Epoch: 160\n",
            "Accuracy: 0.717375\n",
            "~~~~~~~~~~~~~~~~~\n",
            "Epoch: 170\n",
            "Accuracy: 0.7279\n",
            "~~~~~~~~~~~~~~~~~\n",
            "Epoch: 180\n",
            "Accuracy: 0.737725\n",
            "~~~~~~~~~~~~~~~~~\n",
            "Epoch: 190\n",
            "Accuracy: 0.746675\n",
            "~~~~~~~~~~~~~~~~~\n",
            "Epoch: 200\n",
            "Accuracy: 0.755125\n",
            "~~~~~~~~~~~~~~~~~\n",
            "Epoch: 210\n",
            "Accuracy: 0.762875\n",
            "~~~~~~~~~~~~~~~~~\n",
            "Epoch: 220\n",
            "Accuracy: 0.76875\n",
            "~~~~~~~~~~~~~~~~~\n",
            "Epoch: 230\n",
            "Accuracy: 0.774625\n",
            "~~~~~~~~~~~~~~~~~\n",
            "Epoch: 240\n",
            "Accuracy: 0.78025\n",
            "~~~~~~~~~~~~~~~~~\n",
            "Epoch: 250\n",
            "Accuracy: 0.78575\n",
            "~~~~~~~~~~~~~~~~~\n",
            "Epoch: 260\n",
            "Accuracy: 0.790825\n",
            "~~~~~~~~~~~~~~~~~\n",
            "Epoch: 270\n",
            "Accuracy: 0.79565\n",
            "~~~~~~~~~~~~~~~~~\n",
            "Epoch: 280\n",
            "Accuracy: 0.7994\n",
            "~~~~~~~~~~~~~~~~~\n",
            "Epoch: 290\n",
            "Accuracy: 0.803275\n",
            "~~~~~~~~~~~~~~~~~\n",
            "Epoch: 300\n",
            "Accuracy: 0.806875\n",
            "~~~~~~~~~~~~~~~~~\n",
            "Epoch: 310\n",
            "Accuracy: 0.810225\n",
            "~~~~~~~~~~~~~~~~~\n",
            "Epoch: 320\n",
            "Accuracy: 0.81345\n",
            "~~~~~~~~~~~~~~~~~\n",
            "Epoch: 330\n",
            "Accuracy: 0.817125\n",
            "~~~~~~~~~~~~~~~~~\n",
            "Epoch: 340\n",
            "Accuracy: 0.819675\n",
            "~~~~~~~~~~~~~~~~~\n",
            "Epoch: 350\n",
            "Accuracy: 0.822825\n",
            "~~~~~~~~~~~~~~~~~\n",
            "Epoch: 360\n",
            "Accuracy: 0.82555\n",
            "~~~~~~~~~~~~~~~~~\n",
            "Epoch: 370\n",
            "Accuracy: 0.828175\n",
            "~~~~~~~~~~~~~~~~~\n",
            "Epoch: 380\n",
            "Accuracy: 0.83055\n",
            "~~~~~~~~~~~~~~~~~\n",
            "Epoch: 390\n",
            "Accuracy: 0.83265\n",
            "~~~~~~~~~~~~~~~~~\n",
            "Epoch: 400\n",
            "Accuracy: 0.834625\n",
            "~~~~~~~~~~~~~~~~~\n",
            "Epoch: 410\n",
            "Accuracy: 0.83675\n",
            "~~~~~~~~~~~~~~~~~\n",
            "Epoch: 420\n",
            "Accuracy: 0.8385\n",
            "~~~~~~~~~~~~~~~~~\n",
            "Epoch: 430\n",
            "Accuracy: 0.84055\n",
            "~~~~~~~~~~~~~~~~~\n",
            "Epoch: 440\n",
            "Accuracy: 0.8423\n",
            "~~~~~~~~~~~~~~~~~\n",
            "Epoch: 450\n",
            "Accuracy: 0.844\n",
            "~~~~~~~~~~~~~~~~~\n",
            "Epoch: 460\n",
            "Accuracy: 0.846025\n",
            "~~~~~~~~~~~~~~~~~\n",
            "Epoch: 470\n",
            "Accuracy: 0.847625\n",
            "~~~~~~~~~~~~~~~~~\n",
            "Epoch: 480\n",
            "Accuracy: 0.849\n",
            "~~~~~~~~~~~~~~~~~\n",
            "Epoch: 490\n",
            "Accuracy: 0.850425\n",
            "~~~~~~~~~~~~~~~~~\n"
          ]
        }
      ],
      "source": [
        "W1, b1, W2, b2 = run(X_train, Y_train, 0.10, 500)"
      ]
    },
    {
      "cell_type": "code",
      "execution_count": 368,
      "metadata": {
        "id": "MiAD42kuK8Rb"
      },
      "outputs": [],
      "source": [
        "def make_predictions(X, W1, b1, W2, b2):\n",
        "    Z1, A1, Z2, A2 = forward_propagation(W1, b1, W2, b2, X)\n",
        "    predictions = prediction(A2)\n",
        "    return predictions"
      ]
    },
    {
      "cell_type": "code",
      "execution_count": 369,
      "metadata": {
        "colab": {
          "base_uri": "https://localhost:8080/"
        },
        "id": "IzvNaGCwekuw",
        "outputId": "d48bc887-d7c4-4c6a-9d79-62237fbf5ecd"
      },
      "outputs": [
        {
          "data": {
            "text/plain": [
              "85.65"
            ]
          },
          "execution_count": 369,
          "metadata": {},
          "output_type": "execute_result"
        }
      ],
      "source": [
        "val_prediction = make_predictions(X_val, W1, b1, W2, b2)\n",
        "accuracy(val_prediction, Y_val) * 100"
      ]
    },
    {
      "cell_type": "markdown",
      "metadata": {
        "id": "3G2xwCDze2nK"
      },
      "source": [
        "So we got a solid 85 percent accuracy on the validation set as well"
      ]
    },
    {
      "cell_type": "code",
      "execution_count": 370,
      "metadata": {
        "id": "xzRDiu44eeOi"
      },
      "outputs": [],
      "source": [
        "import matplotlib.pyplot as plt"
      ]
    },
    {
      "cell_type": "code",
      "execution_count": 371,
      "metadata": {
        "id": "KTpU3j8GfCFT"
      },
      "outputs": [],
      "source": [
        "def test_prediction(index, W1, b1, W2, b2):\n",
        "    current_image = X_train[:, index, None]\n",
        "    prediction = make_predictions(X_train[:, index, None], W1, b1, W2, b2)\n",
        "    label = Y_train[index]\n",
        "    print(\"Prediction: \", prediction)\n",
        "    print(\"Label: \", label)\n",
        "\n",
        "    current_image = current_image.reshape((28, 28)) * 255\n",
        "    plt.gray()\n",
        "    plt.imshow(current_image, interpolation='nearest')\n",
        "    plt.show()"
      ]
    },
    {
      "cell_type": "code",
      "execution_count": 372,
      "metadata": {
        "colab": {
          "base_uri": "https://localhost:8080/",
          "height": 465
        },
        "id": "H8OjgowPeiOx",
        "outputId": "e4336362-25e2-435b-9e89-b3cc79aa9510"
      },
      "outputs": [
        {
          "name": "stdout",
          "output_type": "stream",
          "text": [
            "Prediction:  [9]\n",
            "Label:  9\n"
          ]
        },
        {
          "data": {
            "image/png": "[encoded data removed]",
            "text/plain": [
              "<Figure size 640x480 with 1 Axes>"
            ]
          },
          "metadata": {},
          "output_type": "display_data"
        }
      ],
      "source": [
        "test_prediction(56, W1, b1, W2, b2)"
      ]
    },
    {
      "cell_type": "code",
      "execution_count": null,
      "metadata": {
        "id": "vMRq55Ivex17"
      },
      "outputs": [],
      "source": []
    }
  ],
  "metadata": {
    "colab": {
      "provenance": []
    },
    "kernelspec": {
      "display_name": "Python 3",
      "name": "python3"
    },
    "language_info": {
      "name": "python"
    }
  },
  "nbformat": 4,
  "nbformat_minor": 0
}
